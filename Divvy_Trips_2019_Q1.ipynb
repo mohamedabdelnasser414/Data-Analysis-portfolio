{
 "cells": [
  {
   "cell_type": "code",
   "execution_count": 1,
   "id": "9d834fef",
   "metadata": {},
   "outputs": [],
   "source": [
    "#Importing libraries for dataframe creation and graph plotting\n",
    "\n",
    "import pandas as pd\n",
    "import numpy as np \n",
    "import matplotlib.pyplot as plt \n",
    "import datetime\n",
    "import calendar "
   ]
  },
  {
   "cell_type": "code",
   "execution_count": 2,
   "id": "baf24d95",
   "metadata": {},
   "outputs": [],
   "source": [
    "#Importing Divvy trips 2019_Q1 Dataset\n",
    "\n",
    "divvy_df = pd.read_csv(\"Divvy_Trips_2019_Q1.csv\")"
   ]
  },
  {
   "cell_type": "markdown",
   "id": "3319b205",
   "metadata": {},
   "source": [
    "### Exploring the dataset  "
   ]
  },
  {
   "cell_type": "code",
   "execution_count": 3,
   "id": "f7c0738b",
   "metadata": {},
   "outputs": [
    {
     "data": {
      "text/html": [
       "<div>\n",
       "<style scoped>\n",
       "    .dataframe tbody tr th:only-of-type {\n",
       "        vertical-align: middle;\n",
       "    }\n",
       "\n",
       "    .dataframe tbody tr th {\n",
       "        vertical-align: top;\n",
       "    }\n",
       "\n",
       "    .dataframe thead th {\n",
       "        text-align: right;\n",
       "    }\n",
       "</style>\n",
       "<table border=\"1\" class=\"dataframe\">\n",
       "  <thead>\n",
       "    <tr style=\"text-align: right;\">\n",
       "      <th></th>\n",
       "      <th>trip_id</th>\n",
       "      <th>start_time</th>\n",
       "      <th>end_time</th>\n",
       "      <th>bikeid</th>\n",
       "      <th>tripduration</th>\n",
       "      <th>from_station_id</th>\n",
       "      <th>from_station_name</th>\n",
       "      <th>to_station_id</th>\n",
       "      <th>to_station_name</th>\n",
       "      <th>usertype</th>\n",
       "      <th>gender</th>\n",
       "      <th>birthyear</th>\n",
       "    </tr>\n",
       "  </thead>\n",
       "  <tbody>\n",
       "    <tr>\n",
       "      <th>0</th>\n",
       "      <td>21742443</td>\n",
       "      <td>2019-01-01 00:04:37</td>\n",
       "      <td>2019-01-01 00:11:07</td>\n",
       "      <td>2167</td>\n",
       "      <td>390.0</td>\n",
       "      <td>199</td>\n",
       "      <td>Wabash Ave &amp; Grand Ave</td>\n",
       "      <td>84</td>\n",
       "      <td>Milwaukee Ave &amp; Grand Ave</td>\n",
       "      <td>Subscriber</td>\n",
       "      <td>Male</td>\n",
       "      <td>1989.0</td>\n",
       "    </tr>\n",
       "    <tr>\n",
       "      <th>1</th>\n",
       "      <td>21742444</td>\n",
       "      <td>2019-01-01 00:08:13</td>\n",
       "      <td>2019-01-01 00:15:34</td>\n",
       "      <td>4386</td>\n",
       "      <td>441.0</td>\n",
       "      <td>44</td>\n",
       "      <td>State St &amp; Randolph St</td>\n",
       "      <td>624</td>\n",
       "      <td>Dearborn St &amp; Van Buren St (*)</td>\n",
       "      <td>Subscriber</td>\n",
       "      <td>Female</td>\n",
       "      <td>1990.0</td>\n",
       "    </tr>\n",
       "    <tr>\n",
       "      <th>2</th>\n",
       "      <td>21742445</td>\n",
       "      <td>2019-01-01 00:13:23</td>\n",
       "      <td>2019-01-01 00:27:12</td>\n",
       "      <td>1524</td>\n",
       "      <td>829.0</td>\n",
       "      <td>15</td>\n",
       "      <td>Racine Ave &amp; 18th St</td>\n",
       "      <td>644</td>\n",
       "      <td>Western Ave &amp; Fillmore St (*)</td>\n",
       "      <td>Subscriber</td>\n",
       "      <td>Female</td>\n",
       "      <td>1994.0</td>\n",
       "    </tr>\n",
       "    <tr>\n",
       "      <th>3</th>\n",
       "      <td>21742446</td>\n",
       "      <td>2019-01-01 00:13:45</td>\n",
       "      <td>2019-01-01 00:43:28</td>\n",
       "      <td>252</td>\n",
       "      <td>1,783.0</td>\n",
       "      <td>123</td>\n",
       "      <td>California Ave &amp; Milwaukee Ave</td>\n",
       "      <td>176</td>\n",
       "      <td>Clark St &amp; Elm St</td>\n",
       "      <td>Subscriber</td>\n",
       "      <td>Male</td>\n",
       "      <td>1993.0</td>\n",
       "    </tr>\n",
       "    <tr>\n",
       "      <th>4</th>\n",
       "      <td>21742447</td>\n",
       "      <td>2019-01-01 00:14:52</td>\n",
       "      <td>2019-01-01 00:20:56</td>\n",
       "      <td>1170</td>\n",
       "      <td>364.0</td>\n",
       "      <td>173</td>\n",
       "      <td>Mies van der Rohe Way &amp; Chicago Ave</td>\n",
       "      <td>35</td>\n",
       "      <td>Streeter Dr &amp; Grand Ave</td>\n",
       "      <td>Subscriber</td>\n",
       "      <td>Male</td>\n",
       "      <td>1994.0</td>\n",
       "    </tr>\n",
       "  </tbody>\n",
       "</table>\n",
       "</div>"
      ],
      "text/plain": [
       "    trip_id           start_time             end_time  bikeid tripduration  \\\n",
       "0  21742443  2019-01-01 00:04:37  2019-01-01 00:11:07    2167        390.0   \n",
       "1  21742444  2019-01-01 00:08:13  2019-01-01 00:15:34    4386        441.0   \n",
       "2  21742445  2019-01-01 00:13:23  2019-01-01 00:27:12    1524        829.0   \n",
       "3  21742446  2019-01-01 00:13:45  2019-01-01 00:43:28     252      1,783.0   \n",
       "4  21742447  2019-01-01 00:14:52  2019-01-01 00:20:56    1170        364.0   \n",
       "\n",
       "   from_station_id                    from_station_name  to_station_id  \\\n",
       "0              199               Wabash Ave & Grand Ave             84   \n",
       "1               44               State St & Randolph St            624   \n",
       "2               15                 Racine Ave & 18th St            644   \n",
       "3              123       California Ave & Milwaukee Ave            176   \n",
       "4              173  Mies van der Rohe Way & Chicago Ave             35   \n",
       "\n",
       "                  to_station_name    usertype  gender  birthyear  \n",
       "0       Milwaukee Ave & Grand Ave  Subscriber    Male     1989.0  \n",
       "1  Dearborn St & Van Buren St (*)  Subscriber  Female     1990.0  \n",
       "2   Western Ave & Fillmore St (*)  Subscriber  Female     1994.0  \n",
       "3               Clark St & Elm St  Subscriber    Male     1993.0  \n",
       "4         Streeter Dr & Grand Ave  Subscriber    Male     1994.0  "
      ]
     },
     "execution_count": 3,
     "metadata": {},
     "output_type": "execute_result"
    }
   ],
   "source": [
    "# Exploring the dataset  \n",
    "\n",
    "divvy_df.head()"
   ]
  },
  {
   "cell_type": "code",
   "execution_count": 4,
   "id": "98531828",
   "metadata": {},
   "outputs": [
    {
     "data": {
      "text/plain": [
       "(365069, 12)"
      ]
     },
     "execution_count": 4,
     "metadata": {},
     "output_type": "execute_result"
    }
   ],
   "source": [
    "#Exploring how many rows and columns in the dataset\n",
    "divvy_df.shape"
   ]
  },
  {
   "cell_type": "code",
   "execution_count": 5,
   "id": "4be8be96",
   "metadata": {},
   "outputs": [
    {
     "data": {
      "text/plain": [
       "0"
      ]
     },
     "execution_count": 5,
     "metadata": {},
     "output_type": "execute_result"
    }
   ],
   "source": [
    "#Checking for duplicates \n",
    "divvy_df.duplicated().sum()"
   ]
  },
  {
   "cell_type": "code",
   "execution_count": 6,
   "id": "4ae5585f",
   "metadata": {},
   "outputs": [
    {
     "data": {
      "text/plain": [
       "Index(['trip_id', 'start_time', 'end_time', 'bikeid', 'tripduration',\n",
       "       'from_station_id', 'from_station_name', 'to_station_id',\n",
       "       'to_station_name', 'usertype', 'gender', 'birthyear'],\n",
       "      dtype='object')"
      ]
     },
     "execution_count": 6,
     "metadata": {},
     "output_type": "execute_result"
    }
   ],
   "source": [
    "#Showing data columns names \n",
    "divvy_df.columns"
   ]
  },
  {
   "cell_type": "code",
   "execution_count": 7,
   "id": "b9214bf3",
   "metadata": {},
   "outputs": [
    {
     "name": "stdout",
     "output_type": "stream",
     "text": [
      "<class 'pandas.core.frame.DataFrame'>\n",
      "RangeIndex: 365069 entries, 0 to 365068\n",
      "Data columns (total 12 columns):\n",
      " #   Column             Non-Null Count   Dtype  \n",
      "---  ------             --------------   -----  \n",
      " 0   trip_id            365069 non-null  int64  \n",
      " 1   start_time         365069 non-null  object \n",
      " 2   end_time           365069 non-null  object \n",
      " 3   bikeid             365069 non-null  int64  \n",
      " 4   tripduration       365069 non-null  object \n",
      " 5   from_station_id    365069 non-null  int64  \n",
      " 6   from_station_name  365069 non-null  object \n",
      " 7   to_station_id      365069 non-null  int64  \n",
      " 8   to_station_name    365069 non-null  object \n",
      " 9   usertype           365069 non-null  object \n",
      " 10  gender             345358 non-null  object \n",
      " 11  birthyear          347046 non-null  float64\n",
      "dtypes: float64(1), int64(4), object(7)\n",
      "memory usage: 33.4+ MB\n"
     ]
    }
   ],
   "source": [
    "divvy_df.info()"
   ]
  },
  {
   "cell_type": "code",
   "execution_count": 8,
   "id": "23c148cd",
   "metadata": {},
   "outputs": [
    {
     "data": {
      "text/plain": [
       "array(['Male', 'Female', nan], dtype=object)"
      ]
     },
     "execution_count": 8,
     "metadata": {},
     "output_type": "execute_result"
    }
   ],
   "source": [
    "#Checking unique values in gender column\n",
    "divvy_df[\"gender\"].unique()"
   ]
  },
  {
   "cell_type": "code",
   "execution_count": 9,
   "id": "b79f9a21",
   "metadata": {},
   "outputs": [
    {
     "data": {
      "text/plain": [
       "array(['Subscriber', 'Customer'], dtype=object)"
      ]
     },
     "execution_count": 9,
     "metadata": {},
     "output_type": "execute_result"
    }
   ],
   "source": [
    "#Checking unique values in usertype column\n",
    "divvy_df[\"usertype\"].unique()"
   ]
  },
  {
   "cell_type": "code",
   "execution_count": 10,
   "id": "60085704",
   "metadata": {},
   "outputs": [
    {
     "data": {
      "text/plain": [
       "trip_id                  0\n",
       "start_time               0\n",
       "end_time                 0\n",
       "bikeid                   0\n",
       "tripduration             0\n",
       "from_station_id          0\n",
       "from_station_name        0\n",
       "to_station_id            0\n",
       "to_station_name          0\n",
       "usertype                 0\n",
       "gender               19711\n",
       "birthyear            18023\n",
       "dtype: int64"
      ]
     },
     "execution_count": 10,
     "metadata": {},
     "output_type": "execute_result"
    }
   ],
   "source": [
    "#Checking null values in the dataset \n",
    "divvy_df.isnull().sum()"
   ]
  },
  {
   "cell_type": "code",
   "execution_count": null,
   "id": "009ba421",
   "metadata": {},
   "outputs": [],
   "source": []
  },
  {
   "cell_type": "markdown",
   "id": "18d8fcd7",
   "metadata": {},
   "source": [
    "## Data Preparation"
   ]
  },
  {
   "cell_type": "markdown",
   "id": "d4ddda31",
   "metadata": {},
   "source": [
    "Converting start_time and end_time columns to date format and creating new column for start_hour and day_of_week\n"
   ]
  },
  {
   "cell_type": "code",
   "execution_count": 11,
   "id": "3cbb849c",
   "metadata": {},
   "outputs": [],
   "source": [
    "#Converting start_time and end_time columns to date format\n",
    "\n",
    "divvy_df[\"start_time\"] = pd.to_datetime(divvy_df[\"start_time\"])\n",
    "divvy_df[\"end_time\"] = pd.to_datetime(divvy_df[\"end_time\"])"
   ]
  },
  {
   "cell_type": "code",
   "execution_count": 12,
   "id": "547b609f",
   "metadata": {},
   "outputs": [],
   "source": [
    "#Creating new column for start hour\n",
    "\n",
    "divvy_df[\"start_hour\"] = divvy_df[\"start_time\"].apply(\n",
    "    lambda x : x.hour)"
   ]
  },
  {
   "cell_type": "code",
   "execution_count": 13,
   "id": "f9283f20",
   "metadata": {},
   "outputs": [],
   "source": [
    "#Creating new column for start weekday\n",
    "\n",
    "day_of_week = divvy_df[\"start_time\"].apply(lambda x : x.dayofweek)\n",
    "divvy_df[\"day_of_week\"] = [calendar.day_name[x] for x in day_of_week]"
   ]
  },
  {
   "cell_type": "markdown",
   "id": "92508578",
   "metadata": {},
   "source": [
    "# "
   ]
  },
  {
   "cell_type": "markdown",
   "id": "83c03240",
   "metadata": {},
   "source": [
    "Exploring tripduration column and replacing extreme trips durations that are longer than 24 hours with the mean of trip with duration less than 24hrs."
   ]
  },
  {
   "cell_type": "code",
   "execution_count": 14,
   "id": "b3283b3d",
   "metadata": {},
   "outputs": [
    {
     "name": "stdout",
     "output_type": "stream",
     "text": [
      "object\n"
     ]
    }
   ],
   "source": [
    "#Checking Data type of tripduration column \n",
    "print(divvy_df[\"tripduration\"].dtypes)"
   ]
  },
  {
   "cell_type": "code",
   "execution_count": 15,
   "id": "21300b5f",
   "metadata": {},
   "outputs": [
    {
     "data": {
      "text/plain": [
       "array(['390.0', '441.0', '829.0', ..., '8,253.0', '3,892.0',\n",
       "       '1,887,870.0'], dtype=object)"
      ]
     },
     "execution_count": 15,
     "metadata": {},
     "output_type": "execute_result"
    }
   ],
   "source": [
    "#Exploring values of tripduration that contain \",\"\n",
    "divvy_df[\"tripduration\"].unique()"
   ]
  },
  {
   "cell_type": "code",
   "execution_count": 16,
   "id": "ed79b649",
   "metadata": {},
   "outputs": [],
   "source": [
    "#Deleting \",\" from tripduration values so it can be converted to float\n",
    "divvy_df[\"tripduration\"] = divvy_df[\"tripduration\"].apply(\n",
    "    lambda x : x.replace(\",\" , \"\"))"
   ]
  },
  {
   "cell_type": "code",
   "execution_count": 17,
   "id": "cd5b776a",
   "metadata": {},
   "outputs": [
    {
     "data": {
      "text/plain": [
       "0          390.0\n",
       "1          441.0\n",
       "2          829.0\n",
       "3         1783.0\n",
       "4          364.0\n",
       "           ...  \n",
       "365064     757.0\n",
       "365065     332.0\n",
       "365066     846.0\n",
       "365067     178.0\n",
       "365068     448.0\n",
       "Name: tripduration, Length: 365069, dtype: object"
      ]
     },
     "execution_count": 17,
     "metadata": {},
     "output_type": "execute_result"
    }
   ],
   "source": [
    "divvy_df[\"tripduration\"]"
   ]
  },
  {
   "cell_type": "code",
   "execution_count": 18,
   "id": "9f5f6b44",
   "metadata": {},
   "outputs": [],
   "source": [
    "#Changing tripduration data type to float then to Integer \n",
    "\n",
    "divvy_df[\"tripduration\"] = divvy_df[\"tripduration\"].astype(\n",
    "    \"float64\").astype(\"Int64\")"
   ]
  },
  {
   "cell_type": "code",
   "execution_count": 19,
   "id": "7e2c95a7",
   "metadata": {},
   "outputs": [
    {
     "data": {
      "text/plain": [
       "0          390\n",
       "1          441\n",
       "2          829\n",
       "3         1783\n",
       "4          364\n",
       "          ... \n",
       "365064     757\n",
       "365065     332\n",
       "365066     846\n",
       "365067     178\n",
       "365068     448\n",
       "Name: tripduration, Length: 365069, dtype: Int64"
      ]
     },
     "execution_count": 19,
     "metadata": {},
     "output_type": "execute_result"
    }
   ],
   "source": [
    "divvy_df[\"tripduration\"]"
   ]
  },
  {
   "cell_type": "code",
   "execution_count": 20,
   "id": "73157c57",
   "metadata": {},
   "outputs": [
    {
     "data": {
      "text/plain": [
       "100        112466\n",
       "145         95430\n",
       "311         85554\n",
       "517         76350\n",
       "520         66622\n",
       "           ...   \n",
       "362390      11113\n",
       "363445      12219\n",
       "363475      14100\n",
       "364292      68699\n",
       "364793    1887870\n",
       "Name: tripduration, Length: 763, dtype: Int64"
      ]
     },
     "execution_count": 20,
     "metadata": {},
     "output_type": "execute_result"
    }
   ],
   "source": [
    "#Rendering extremely long trips with duration more than 3 hours \n",
    "\n",
    "three_hours = 3 * 60 * 60\n",
    "extreme_trips = divvy_df[\"tripduration\"][\n",
    "                    divvy_df[\"tripduration\"] > three_hours ]\n",
    "extreme_trips"
   ]
  },
  {
   "cell_type": "code",
   "execution_count": 21,
   "id": "f2a303ae",
   "metadata": {},
   "outputs": [
    {
     "data": {
      "text/plain": [
       "148897    2952.333333\n",
       "246297    1693.452778\n",
       "88324     1568.383333\n",
       "128296    1349.852778\n",
       "132676    1090.791667\n",
       "             ...     \n",
       "218535       3.027222\n",
       "163631       3.018333\n",
       "348535       3.016944\n",
       "23232        3.013889\n",
       "46802        3.010278\n",
       "Name: tripduration, Length: 763, dtype: Float64"
      ]
     },
     "execution_count": 21,
     "metadata": {},
     "output_type": "execute_result"
    }
   ],
   "source": [
    "#Exploring how long are these extreme_trips in hours\n",
    "one_hour_duration = 60 *60\n",
    "(extreme_trips/ one_hour_duration ).sort_values(\n",
    "    ascending = False)"
   ]
  },
  {
   "cell_type": "code",
   "execution_count": 22,
   "id": "9961bbc6",
   "metadata": {},
   "outputs": [
    {
     "data": {
      "text/plain": [
       "723"
      ]
     },
     "execution_count": 22,
     "metadata": {},
     "output_type": "execute_result"
    }
   ],
   "source": [
    "#Calculating mean duration for trips with duration less than 3 hours \n",
    "\n",
    "tripduration_mean = round(divvy_df[\"tripduration\"][\n",
    "                    divvy_df[\"tripduration\"] <= three_hours].mean())\n",
    "tripduration_mean"
   ]
  },
  {
   "cell_type": "code",
   "execution_count": 23,
   "id": "051cbcbb",
   "metadata": {
    "scrolled": true
   },
   "outputs": [
    {
     "data": {
      "text/plain": [
       "763"
      ]
     },
     "execution_count": 23,
     "metadata": {},
     "output_type": "execute_result"
    }
   ],
   "source": [
    "#Number of trips that are more than 3 hours \n",
    "\n",
    "len(divvy_df[divvy_df[\"tripduration\"] > three_hours])"
   ]
  },
  {
   "cell_type": "code",
   "execution_count": 24,
   "id": "617b0d03",
   "metadata": {},
   "outputs": [],
   "source": [
    "#Replacing extreme trips duration with the mean of trips duration \n",
    "\n",
    "divvy_df[\"tripduration\"][divvy_df[\"tripduration\"] > \n",
    "                         three_hours] = [tripduration_mean] * 763"
   ]
  },
  {
   "cell_type": "code",
   "execution_count": 25,
   "id": "21a3980e",
   "metadata": {},
   "outputs": [],
   "source": [
    "#Creating new colum for tripduration in minutes \n",
    "\n",
    "divvy_df[\"tripduration_min\"]= (divvy_df[\"tripduration\"]/60).apply(round)"
   ]
  },
  {
   "cell_type": "markdown",
   "id": "a5ad025f",
   "metadata": {},
   "source": [
    "# "
   ]
  },
  {
   "cell_type": "markdown",
   "id": "776b4bc6",
   "metadata": {},
   "source": [
    "\n"
   ]
  },
  {
   "cell_type": "markdown",
   "id": "2dfc8746",
   "metadata": {},
   "source": [
    "Fillling Null values in gender column with \"Missing\""
   ]
  },
  {
   "cell_type": "code",
   "execution_count": 26,
   "id": "d0bebf03",
   "metadata": {},
   "outputs": [],
   "source": [
    "#Fillling Null values in gender column with \"Missing\"\n",
    "divvy_df[\"gender\"].fillna(\"Missing\", inplace = True)"
   ]
  },
  {
   "cell_type": "code",
   "execution_count": 27,
   "id": "649a5915",
   "metadata": {},
   "outputs": [
    {
     "data": {
      "text/plain": [
       "0"
      ]
     },
     "execution_count": 27,
     "metadata": {},
     "output_type": "execute_result"
    }
   ],
   "source": [
    "divvy_df[\"gender\"].isnull().sum()"
   ]
  },
  {
   "cell_type": "markdown",
   "id": "a9e76997",
   "metadata": {},
   "source": [
    "# "
   ]
  },
  {
   "cell_type": "markdown",
   "id": "8a2f8f3f",
   "metadata": {},
   "source": [
    "Using birthyear column to get users ages and replacing extreme old ages that are above 80 years old with mean of users ages and replacing null values with age mean"
   ]
  },
  {
   "cell_type": "code",
   "execution_count": 28,
   "id": "220a4172",
   "metadata": {},
   "outputs": [],
   "source": [
    "#Adding new column for user age \n",
    "today = datetime.date.today()\n",
    "current_year = today.year\n",
    "divvy_df[\"user_age\"] = divvy_df[\"birthyear\"].apply(\n",
    "                lambda x : current_year - x)"
   ]
  },
  {
   "cell_type": "code",
   "execution_count": 29,
   "id": "4eeb0663",
   "metadata": {},
   "outputs": [
    {
     "data": {
      "text/plain": [
       "count    347046.000000\n",
       "mean         41.325703\n",
       "std          11.245683\n",
       "min          20.000000\n",
       "25%          33.000000\n",
       "50%          38.000000\n",
       "75%          48.000000\n",
       "max         123.000000\n",
       "Name: user_age, dtype: float64"
      ]
     },
     "execution_count": 29,
     "metadata": {},
     "output_type": "execute_result"
    }
   ],
   "source": [
    "divvy_df[\"user_age\"].describe()"
   ]
  },
  {
   "cell_type": "code",
   "execution_count": 30,
   "id": "15b7a85e",
   "metadata": {},
   "outputs": [
    {
     "data": {
      "text/plain": [
       "492        83.0\n",
       "2615       81.0\n",
       "2943       81.0\n",
       "2964       81.0\n",
       "3182       83.0\n",
       "          ...  \n",
       "356532    105.0\n",
       "362953     83.0\n",
       "363825    123.0\n",
       "364890    123.0\n",
       "364902    123.0\n",
       "Name: user_age, Length: 280, dtype: float64"
      ]
     },
     "execution_count": 30,
     "metadata": {},
     "output_type": "execute_result"
    }
   ],
   "source": [
    "# exploring extreme user ages that above 80 years old\n",
    "divvy_df[\"user_age\"][divvy_df[\"user_age\"] > 80]"
   ]
  },
  {
   "cell_type": "code",
   "execution_count": 31,
   "id": "318f97b6",
   "metadata": {},
   "outputs": [
    {
     "data": {
      "text/plain": [
       "280"
      ]
     },
     "execution_count": 31,
     "metadata": {},
     "output_type": "execute_result"
    }
   ],
   "source": [
    "len(divvy_df[\"user_age\"][divvy_df[\"user_age\"] > 80])"
   ]
  },
  {
   "cell_type": "code",
   "execution_count": 32,
   "id": "92bc4a43",
   "metadata": {},
   "outputs": [
    {
     "data": {
      "text/plain": [
       "41"
      ]
     },
     "execution_count": 32,
     "metadata": {},
     "output_type": "execute_result"
    }
   ],
   "source": [
    "#Calculating mean of users age below or equal to 80 years old\n",
    "age_mean=round(divvy_df[\"user_age\"][divvy_df[\"user_age\"] <=80].mean())\n",
    "age_mean"
   ]
  },
  {
   "cell_type": "code",
   "execution_count": 33,
   "id": "f711dcdf",
   "metadata": {},
   "outputs": [],
   "source": [
    "#Replacing extreme ages with age mean \n",
    "divvy_df.loc[divvy_df.user_age > 80 , \"user_age\"] = [age_mean] * 280"
   ]
  },
  {
   "cell_type": "code",
   "execution_count": 34,
   "id": "99953a4c",
   "metadata": {},
   "outputs": [],
   "source": [
    "# Filling Null values in user_age  column with age mean\n",
    "divvy_df[\"user_age\"].fillna(age_mean , inplace =True)"
   ]
  },
  {
   "cell_type": "code",
   "execution_count": 35,
   "id": "e05b6cde",
   "metadata": {},
   "outputs": [],
   "source": [
    "# changing data type from Object to Integer\n",
    "divvy_df[\"user_age\"] = divvy_df[\"user_age\"].astype(\"Int64\")"
   ]
  },
  {
   "cell_type": "code",
   "execution_count": 36,
   "id": "0ea0af92",
   "metadata": {},
   "outputs": [
    {
     "data": {
      "text/plain": [
       "0"
      ]
     },
     "execution_count": 36,
     "metadata": {},
     "output_type": "execute_result"
    }
   ],
   "source": [
    "divvy_df[\"user_age\"].isnull().sum()"
   ]
  },
  {
   "cell_type": "markdown",
   "id": "666756a4",
   "metadata": {},
   "source": [
    "### 1. How many trips occurred in the first quarter of 2019? "
   ]
  },
  {
   "cell_type": "code",
   "execution_count": 37,
   "id": "e1370b02",
   "metadata": {},
   "outputs": [
    {
     "data": {
      "text/plain": [
       "365069"
      ]
     },
     "execution_count": 37,
     "metadata": {},
     "output_type": "execute_result"
    }
   ],
   "source": [
    "# Number of trips within first quarter of 2019\n",
    "\n",
    "num_trips = len(divvy_df[\"trip_id\"])\n",
    "num_trips"
   ]
  },
  {
   "cell_type": "markdown",
   "id": "51ec07e7",
   "metadata": {},
   "source": [
    "### 2. How many bikes were used in the first quarter of 2019? "
   ]
  },
  {
   "cell_type": "code",
   "execution_count": 38,
   "id": "2c4e15d0",
   "metadata": {},
   "outputs": [
    {
     "data": {
      "text/plain": [
       "4769"
      ]
     },
     "execution_count": 38,
     "metadata": {},
     "output_type": "execute_result"
    }
   ],
   "source": [
    "#Number of bikes used within first quarter of 2019\n",
    "\n",
    "num_bikes = len(divvy_df[\"bikeid\"].unique())\n",
    "\n",
    "num_bikes"
   ]
  },
  {
   "cell_type": "markdown",
   "id": "dfbf963d",
   "metadata": {},
   "source": [
    "### 3. What are the bikes that made most trips?"
   ]
  },
  {
   "cell_type": "code",
   "execution_count": 39,
   "id": "bbab684c",
   "metadata": {},
   "outputs": [
    {
     "data": {
      "text/plain": [
       "bikeid\n",
       "3457    235\n",
       "6407    229\n",
       "5983    224\n",
       "6074    222\n",
       "3494    221\n",
       "Name: bikeid, dtype: int64"
      ]
     },
     "execution_count": 39,
     "metadata": {},
     "output_type": "execute_result"
    }
   ],
   "source": [
    "#Bikes with highest number of trips trips in first quarter of 2019\n",
    "\n",
    "top_bikes = divvy_df.groupby([\"bikeid\"])[\n",
    "    'bikeid'].count().sort_values(ascending = False).head(5)\n",
    "top_bikes"
   ]
  },
  {
   "cell_type": "code",
   "execution_count": 40,
   "id": "fcfd6ad4",
   "metadata": {},
   "outputs": [
    {
     "data": {
      "image/png": "[encoded data removed]",
      "text/plain": [
       "<Figure size 640x480 with 1 Axes>"
      ]
     },
     "metadata": {},
     "output_type": "display_data"
    }
   ],
   "source": [
    "#Plotting Bikes with highest number of trips trips in first quarter of 2019\n",
    "\n",
    "ax = top_bikes.plot(kind= \"bar\",\n",
    "                    title=\"Bikes With Highest Number of Trips\",\n",
    "                    color = \"teal\" , alpha = 0.4 , rot = 0,\n",
    "                ylabel = \"Num Of Trips\" , xlabel = \"Bike ID\" \n",
    "                ,width =0.4 , fontsize=8)\n",
    "\n",
    "ax.bar_label(ax.containers[0], fontsize=10 )\n",
    "\n",
    "plt.show()"
   ]
  },
  {
   "cell_type": "markdown",
   "id": "7d4166f1",
   "metadata": {},
   "source": [
    "### 4. What is the average trip duration in minutes? "
   ]
  },
  {
   "cell_type": "code",
   "execution_count": 41,
   "id": "43c9f8f9",
   "metadata": {},
   "outputs": [
    {
     "data": {
      "text/plain": [
       "12"
      ]
     },
     "execution_count": 41,
     "metadata": {},
     "output_type": "execute_result"
    }
   ],
   "source": [
    "#Calculating average trip duration\n",
    "avg_tripduration_min = round(divvy_df[\"tripduration_min\"].mean())\n",
    "avg_tripduration_min"
   ]
  },
  {
   "cell_type": "code",
   "execution_count": 42,
   "id": "1c737f8e",
   "metadata": {},
   "outputs": [
    {
     "data": {
      "text/plain": [
       "31"
      ]
     },
     "execution_count": 42,
     "metadata": {},
     "output_type": "execute_result"
    }
   ],
   "source": [
    "#Calculating Customer average trip duration\n",
    "av_tripduration_min = round(divvy_df[\"tripduration_min\"][\n",
    "                        divvy_df[\"usertype\"] == \"Customer\"].mean())\n",
    "av_tripduration_min"
   ]
  },
  {
   "cell_type": "code",
   "execution_count": 43,
   "id": "71f443f7",
   "metadata": {},
   "outputs": [
    {
     "data": {
      "text/plain": [
       "11"
      ]
     },
     "execution_count": 43,
     "metadata": {},
     "output_type": "execute_result"
    }
   ],
   "source": [
    "#Calculating Subscriber average trip duration\n",
    "av_tripduration_min = round(divvy_df[\"tripduration_min\"][\n",
    "                    divvy_df[\"usertype\"] == \"Subscriber\"].mean())\n",
    "av_tripduration_min"
   ]
  },
  {
   "cell_type": "markdown",
   "id": "f5cfda44",
   "metadata": {},
   "source": [
    "### 5. What are the most popular start stations? "
   ]
  },
  {
   "cell_type": "code",
   "execution_count": 44,
   "id": "e577028c",
   "metadata": {},
   "outputs": [
    {
     "data": {
      "text/plain": [
       "Clinton St & Washington Blvd    7699\n",
       "Clinton St & Madison St         6565\n",
       "Canal St & Adams St             6342\n",
       "Columbus Dr & Randolph St       4655\n",
       "Canal St & Madison St           4571\n",
       "Name: from_station_name, dtype: int64"
      ]
     },
     "execution_count": 44,
     "metadata": {},
     "output_type": "execute_result"
    }
   ],
   "source": [
    "#Rending most popular start stations\n",
    "divvy_df[\"from_station_name\"].value_counts().sort_values(\n",
    "                                    ascending = False).head(5)"
   ]
  },
  {
   "cell_type": "markdown",
   "id": "6820cf54",
   "metadata": {},
   "source": [
    "### 6. What are the most popular end stations? "
   ]
  },
  {
   "cell_type": "code",
   "execution_count": 45,
   "id": "a04f2205",
   "metadata": {},
   "outputs": [
    {
     "data": {
      "text/plain": [
       "Clinton St & Washington Blvd    7699\n",
       "Clinton St & Madison St         6859\n",
       "Canal St & Adams St             6744\n",
       "Canal St & Madison St           4875\n",
       "Michigan Ave & Washington St    4412\n",
       "Name: to_station_name, dtype: int64"
      ]
     },
     "execution_count": 45,
     "metadata": {},
     "output_type": "execute_result"
    }
   ],
   "source": [
    "#Rending most popular end stations\n",
    "\n",
    "divvy_df[\"to_station_name\"].value_counts().sort_values(\n",
    "                                    ascending = False).head(5)"
   ]
  },
  {
   "cell_type": "markdown",
   "id": "9354e576",
   "metadata": {},
   "source": [
    "### 7. What are the most popular routes? "
   ]
  },
  {
   "cell_type": "code",
   "execution_count": 46,
   "id": "57db386d",
   "metadata": {},
   "outputs": [
    {
     "data": {
      "text/plain": [
       "from_station_name             to_station_name             \n",
       "Michigan Ave & Washington St  Clinton St & Washington Blvd    513\n",
       "Columbus Dr & Randolph St     Clinton St & Washington Blvd    491\n",
       "Michigan Ave & Washington St  Canal St & Adams St             482\n",
       "Canal St & Madison St         Michigan Ave & Washington St    479\n",
       "Canal St & Adams St           Michigan Ave & Washington St    447\n",
       "Name: trip_id, dtype: int64"
      ]
     },
     "execution_count": 46,
     "metadata": {},
     "output_type": "execute_result"
    }
   ],
   "source": [
    "#Rending most popular routes\n",
    "divvy_df.groupby([\"from_station_name\" , \"to_station_name\"])[\n",
    "         \"trip_id\"].count().sort_values(ascending = False).head(5)"
   ]
  },
  {
   "cell_type": "markdown",
   "id": "e6da0256",
   "metadata": {},
   "source": [
    "# "
   ]
  },
  {
   "cell_type": "markdown",
   "id": "495638dc",
   "metadata": {},
   "source": [
    "### 8. What is the percentage of trips by customers and subscribers? "
   ]
  },
  {
   "cell_type": "code",
   "execution_count": 47,
   "id": "0843c245",
   "metadata": {},
   "outputs": [
    {
     "data": {
      "text/plain": [
       "Subscriber    341906\n",
       "Customer       23163\n",
       "Name: usertype, dtype: int64"
      ]
     },
     "execution_count": 47,
     "metadata": {},
     "output_type": "execute_result"
    }
   ],
   "source": [
    "#calculating Number of Trips done by customers and subscribers  \n",
    "usertype = divvy_df[\"usertype\"].value_counts()\n",
    "usertype"
   ]
  },
  {
   "cell_type": "code",
   "execution_count": 48,
   "id": "a94568de",
   "metadata": {},
   "outputs": [
    {
     "data": {
      "image/png": "[encoded data removed]",
      "text/plain": [
       "<Figure size 500x500 with 1 Axes>"
      ]
     },
     "metadata": {},
     "output_type": "display_data"
    }
   ],
   "source": [
    "#Plotting the percentage of of trips by subscribers and customers  \n",
    "\n",
    "usertype.plot(kind = \"pie\", y='attendees' ,startangle = 45,\n",
    "           autopct='%1.0f%%' ,explode = [0.1 , 0 ], \n",
    "           colors = ['Gainsboro', 'DeepSkyBlue'],shadow = True, \n",
    "           figsize = (5 ,5), title='Percentage of Trips by User Type')\n",
    "plt.legend(loc = \"upper left\" , fontsize=\"9\")\n",
    "plt.show()"
   ]
  },
  {
   "cell_type": "code",
   "execution_count": 49,
   "id": "8d6be765",
   "metadata": {},
   "outputs": [
    {
     "data": {
      "text/plain": [
       "Male       278440\n",
       "Female      66918\n",
       "Missing     19711\n",
       "Name: gender, dtype: int64"
      ]
     },
     "execution_count": 49,
     "metadata": {},
     "output_type": "execute_result"
    }
   ],
   "source": [
    "#Calculating number of trips by female and male users\n",
    "divvy_df['gender'].value_counts()"
   ]
  },
  {
   "cell_type": "code",
   "execution_count": 50,
   "id": "2d7d8c58",
   "metadata": {},
   "outputs": [
    {
     "data": {
      "text/plain": [
       "Male      278440\n",
       "Female     66918\n",
       "Name: gender, dtype: int64"
      ]
     },
     "execution_count": 50,
     "metadata": {},
     "output_type": "execute_result"
    }
   ],
   "source": [
    "#Disregarding missing values\n",
    "user_gender = divvy_df['gender'][\n",
    "        divvy_df['gender'] != \"Missing\"].value_counts()\n",
    "user_gender"
   ]
  },
  {
   "cell_type": "code",
   "execution_count": 51,
   "id": "7697b39c",
   "metadata": {},
   "outputs": [
    {
     "data": {
      "image/png": "[encoded data removed]",
      "text/plain": [
       "<Figure size 500x500 with 1 Axes>"
      ]
     },
     "metadata": {},
     "output_type": "display_data"
    }
   ],
   "source": [
    "#Plotting the pecentage of trips based on user gender\n",
    "user_gender.plot(kind = \"pie\", y='attendees' ,startangle = 60, \n",
    "                 autopct='%1.0f%%',explode = [0.1 , 0], \n",
    "               colors = ['SkyBlue', 'Salmon'],shadow = True,\n",
    "                 figsize = (5,5),title='Divvy Bikes Usage by Gender',\n",
    "                 fontsize=11)\n",
    "plt.legend(loc = \"upper left\" , fontsize=\"9\")\n",
    "plt.show()"
   ]
  },
  {
   "cell_type": "markdown",
   "id": "5e36a17c",
   "metadata": {},
   "source": [
    "### 10. What are the ages of Divvy Bikes users?"
   ]
  },
  {
   "cell_type": "code",
   "execution_count": 52,
   "id": "c2917e9f",
   "metadata": {},
   "outputs": [],
   "source": [
    "#Assigning user_age column to a variable \n",
    "user_age = divvy_df['user_age']"
   ]
  },
  {
   "cell_type": "code",
   "execution_count": 53,
   "id": "15a958e8",
   "metadata": {},
   "outputs": [
    {
     "data": {
      "image/png": "[encoded data removed]",
      "text/plain": [
       "<Figure size 640x480 with 1 Axes>"
      ]
     },
     "metadata": {},
     "output_type": "display_data"
    }
   ],
   "source": [
    "#Plotting Number of Trips by Users ages  \n",
    "\n",
    "ax = user_age.plot(kind = \"hist\", rot = 90 , bins =12, width= 4.5 , \n",
    "        colormap = \"summer\",title='Divvy Bikes Usage by Users Ages',\n",
    "        ylabel = \"Num Of Trips\" \n",
    "        , xlabel = \"Users Age\", alpha=0.7, legend=True, fontsize=8\n",
    "         , xticks = range(20,81,5))\n",
    "ax.bar_label(ax.containers[0] , fontsize=8)\n",
    "\n",
    "plt.show()"
   ]
  },
  {
   "cell_type": "markdown",
   "id": "c7861164",
   "metadata": {},
   "source": [
    "### 11. What time are Divvy bikes most used?"
   ]
  },
  {
   "cell_type": "code",
   "execution_count": 54,
   "id": "f8da7951",
   "metadata": {
    "scrolled": false
   },
   "outputs": [
    {
     "data": {
      "image/png": "[encoded data removed]",
      "text/plain": [
       "<Figure size 1200x500 with 1 Axes>"
      ]
     },
     "metadata": {},
     "output_type": "display_data"
    }
   ],
   "source": [
    "#Plotting number of trips by hour of the day\n",
    "ax = divvy_df[\"start_hour\"].plot(kind = \"hist\", \n",
    "                    bins = np.arange(25) -0.4,\n",
    "                    xticks = range(24), width= 0.8,figsize = (12,5),\n",
    "                    color = \"darkorchid\", legend=True, fontsize=8 \n",
    "                    ,xlabel= \"Hour Of The Day\",\n",
    "                    ylabel= \"Number Of Trips\" , alpha=0.5,\n",
    "                    title= \"Divvy Trips By Hour Of The Day\")\n",
    "\n",
    "ax.bar_label(ax.containers[0] , fontsize=7 , color = 'black')\n",
    "plt.show()\n",
    "\n",
    "\n"
   ]
  },
  {
   "cell_type": "markdown",
   "id": "e3d49a2f",
   "metadata": {},
   "source": [
    "### 12. How is Divvy bikes usage by day?"
   ]
  },
  {
   "cell_type": "code",
   "execution_count": 55,
   "id": "1291203e",
   "metadata": {},
   "outputs": [
    {
     "data": {
      "text/plain": [
       "Thursday     66903\n",
       "Friday       63047\n",
       "Tuesday      61005\n",
       "Wednesday    60414\n",
       "Monday       50399\n",
       "Saturday     35302\n",
       "Sunday       27999\n",
       "Name: day_of_week, dtype: int64"
      ]
     },
     "execution_count": 55,
     "metadata": {},
     "output_type": "execute_result"
    }
   ],
   "source": [
    "#Calculting number of trips by weekday \n",
    "day_of_week= divvy_df[\"day_of_week\"].value_counts()\n",
    "day_of_week"
   ]
  },
  {
   "cell_type": "code",
   "execution_count": 56,
   "id": "cf4ea0d4",
   "metadata": {
    "scrolled": true
   },
   "outputs": [
    {
     "data": {
      "image/png": "[encoded data removed]",
      "text/plain": [
       "<Figure size 700x300 with 1 Axes>"
      ]
     },
     "metadata": {},
     "output_type": "display_data"
    }
   ],
   "source": [
    "#Plotting number of trips by day of the week\n",
    "ax = day_of_week.plot(kind= \"bar\" , \n",
    "            title=\"Divvy Trips Per Days of the Weeks\",\n",
    "            color = ['LightSalmon'] , alpha = 0.5 , rot = 0,\n",
    "            ylabel = \"Nuber of Trips\" , xlabel = \"Days Of the Week\",\n",
    "            yticks = [0 , 20000, 40000, 60000,80000]\n",
    "            ,width =0.4 , fontsize=8 , figsize=(7, 3))\n",
    "\n",
    "ax.bar_label(ax.containers[0], fontsize=10 )\n",
    "plt.show()"
   ]
  },
  {
   "cell_type": "code",
   "execution_count": null,
   "id": "c6942715",
   "metadata": {},
   "outputs": [],
   "source": []
  }
 ],
 "metadata": {
  "kernelspec": {
   "display_name": "Python 3 (ipykernel)",
   "language": "python",
   "name": "python3"
  },
  "language_info": {
   "codemirror_mode": {
    "name": "ipython",
    "version": 3
   },
   "file_extension": ".py",
   "mimetype": "text/x-python",
   "name": "python",
   "nbconvert_exporter": "python",
   "pygments_lexer": "ipython3",
   "version": "3.9.13"
  }
 },
 "nbformat": 4,
 "nbformat_minor": 5
}
